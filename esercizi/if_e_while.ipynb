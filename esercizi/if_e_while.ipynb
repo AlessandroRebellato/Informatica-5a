{
  "cells": [
    {
      "cell_type": "markdown",
      "metadata": {
        "id": "HB3XbPDcSqe1"
      },
      "source": [
        "# Esercizi IF"
      ]
    },
    {
      "cell_type": "code",
      "execution_count": 7,
      "metadata": {
        "id": "0U7L9A29RfeT"
      },
      "outputs": [
        {
          "name": "stdout",
          "output_type": "stream",
          "text": [
            "Il numero non é pari\n"
          ]
        }
      ],
      "source": [
        "# Es 4.1: Ottenere dall'utente un numero in input e scrivere a schermo \"Pari\" se il numero è pari, scrivere \"Dispari\" altrimenti\n",
        "x = int (input(\"Inserisci un numero: \"))\n",
        "if x%2==0:\n",
        "    print(\"Il numero è pari\")\n",
        "else:\n",
        "    print(\"Il numero non é pari\")"
      ]
    },
    {
      "cell_type": "code",
      "execution_count": 19,
      "metadata": {
        "id": "gE3RVr9ORuwP"
      },
      "outputs": [
        {
          "name": "stdout",
          "output_type": "stream",
          "text": [
            "É un triangolo.\n"
          ]
        }
      ],
      "source": [
        "# Es 4.2: Ottenere dall'utente tre angoli caso siano i tre angoli di un triangolo scrivere a schermo \"È un triangolo\", altrimenti \"Non è un triangolo\"\n",
        "x = float(input(\"Inserisci il primo angolo: \"))\n",
        "y = float(input(\"Inserisci il secondo angolo: \"))\n",
        "z = float(input(\"Inserisci il terzo angolo: \"))\n",
        "if x>0 and y>0 and z>0:\n",
        "    if x+y+z==180:\n",
        "        print(\"É un triangolo.\")\n",
        "    else:\n",
        "        print(\"Non é un triangolo.\")\n",
        "else:\n",
        "    print(\"Angoli non validi.\")"
      ]
    },
    {
      "cell_type": "code",
      "execution_count": 26,
      "metadata": {
        "id": "r1A_DavcSKgi"
      },
      "outputs": [
        {
          "name": "stdout",
          "output_type": "stream",
          "text": [
            "É un triangolo rettangolo.\n"
          ]
        }
      ],
      "source": [
        "# Es 4.3: Ottenuti dall'utente tre angoli di un tringolo scrivere a schermo se i tre angoli descrivono un triangolo rettangolo o no\n",
        "x = float(input(\"Inserisci il primo angolo: \"))\n",
        "y = float(input(\"Inserisci il secondo angolo: \"))\n",
        "z = float(input(\"Inserisci il terzo angolo: \"))\n",
        "if x>0 and y>0 and z>0:\n",
        "    if x+y+z==180:\n",
        "        if x==90 or y==90 or z==90:\n",
        "            print(\"É un triangolo rettangolo.\")\n",
        "        else:\n",
        "            print(\"Non é un triangolo rettangolo.\")\n",
        "    else:\n",
        "        print(\"Non é un triangolo.\")\n",
        "else:\n",
        "    print(\"Angoli non validi.\")"
      ]
    },
    {
      "cell_type": "code",
      "execution_count": 32,
      "metadata": {
        "id": "iA9D4X_GSims"
      },
      "outputs": [
        {
          "name": "stdout",
          "output_type": "stream",
          "text": [
            "É un triangolo equilatero.\n"
          ]
        }
      ],
      "source": [
        "# Es 4.4: Ottenuti dall'utente tre angoli di un tringolo scrivere a schermo se i tre angoli descrivono un triangolo equilatero o no\n",
        "x = float(input(\"Inserisci il primo angolo: \"))\n",
        "y = float(input(\"Inserisci il secondo angolo: \"))\n",
        "z = float(input(\"Inserisci il terzo angolo: \"))\n",
        "if x>0 and y>0 and z>0:\n",
        "    if x+y+z==180:\n",
        "        if x==y and y==z and z==x:\n",
        "            print(\"É un triangolo equilatero.\")\n",
        "        else:\n",
        "            print(\"Non é un triangolo equilatero.\")\n",
        "    else:\n",
        "        print(\"Non é un triangolo.\")\n",
        "else:\n",
        "    print(\"Angoli non validi.\")"
      ]
    },
    {
      "cell_type": "code",
      "execution_count": 40,
      "metadata": {
        "id": "8q4gadoTSU7J"
      },
      "outputs": [
        {
          "name": "stdout",
          "output_type": "stream",
          "text": [
            "É un triangolo isoscele.\n"
          ]
        }
      ],
      "source": [
        "# Es 4.5: Ottenuti dall'utente tre angoli di un tringolo scrivere a schermo se i tre angoli descrivono un triangolo isocele o no\n",
        "x = float(input(\"Inserisci il primo angolo: \"))\n",
        "y = float(input(\"Inserisci il secondo angolo: \"))\n",
        "z = float(input(\"Inserisci il terzo angolo: \"))\n",
        "if x>0 and y>0 and z>0:\n",
        "    if x+y+z==180:\n",
        "        if x==y or y==z or z==x:\n",
        "            print(\"É un triangolo isoscele.\")\n",
        "        else:\n",
        "            print(\"Non é un triangolo isoscele.\")\n",
        "    else:\n",
        "        print(\"Non é un triangolo.\")\n",
        "else:\n",
        "    print(\"Angoli non validi.\")"
      ]
    },
    {
      "cell_type": "code",
      "execution_count": 45,
      "metadata": {
        "id": "yVIE2kK3SYlq"
      },
      "outputs": [
        {
          "name": "stdout",
          "output_type": "stream",
          "text": [
            "Angoli non validi.\n"
          ]
        }
      ],
      "source": [
        "# Es 4.6: Ottenuti dall'utente tre angoli di un tringolo scrivere a schermo se i tre angoli descrivono un triangolo isocele, rettagolo, equilatero o scaleno\n",
        "x = float(input(\"Inserisci il primo angolo: \"))\n",
        "y = float(input(\"Inserisci il secondo angolo: \"))\n",
        "z = float(input(\"Inserisci il terzo angolo: \"))\n",
        "if x>0 and y>0 and z>0:\n",
        "    if x+y+z==180:\n",
        "        if x==y or y==z or z==x:\n",
        "            if x==y and y==z and z==x:\n",
        "                print(\"É un triangolo equilatero.\")\n",
        "            else:\n",
        "                print(\"É un triangolo isoscele.\")\n",
        "        else:\n",
        "            print(\"É un triangolo scaleno\")\n",
        "    else:\n",
        "        print(\"Non é un triangolo.\")\n",
        "else:\n",
        "    print(\"Angoli non validi.\")"
      ]
    },
    {
      "cell_type": "markdown",
      "metadata": {
        "id": "ef5snVxLqeQh"
      },
      "source": [
        "# Esercizi WHILE\n"
      ]
    },
    {
      "cell_type": "code",
      "execution_count": 13,
      "metadata": {
        "id": "j61RqiHxqdmh"
      },
      "outputs": [
        {
          "name": "stdout",
          "output_type": "stream",
          "text": [
            "3\n",
            "3\n"
          ]
        }
      ],
      "source": [
        "# Es 4.7: Creare una funzione print_n(n,v) che stampi n volte il. contenuto di v\n",
        "def print_n(n,v):\n",
        "    for i in range(n):\n",
        "        print(v)\n",
        "n= int (input(\"Inserisci n\"))\n",
        "v=(input(\"Inserisci v\"))\n",
        "\n",
        "print_n(n,v)\n"
      ]
    },
    {
      "cell_type": "code",
      "execution_count": 5,
      "metadata": {
        "colab": {
          "base_uri": "https://localhost:8080/"
        },
        "id": "-6lAm-hfq9w9",
        "outputId": "399e82ba-3cfe-475f-f8df-0e156677ec75"
      },
      "outputs": [
        {
          "name": "stdout",
          "output_type": "stream",
          "text": [
            "1\n",
            "2\n",
            "3\n",
            "5\n",
            "6\n",
            "10\n",
            "15\n"
          ]
        }
      ],
      "source": [
        "# Es 4.8: Inserito il numero n dire per quali numeri, compresi tra 1 e n, è divisibile.\n",
        "# Inserisco 10: stampo 1,2,5\n",
        "# Inserisco 7: stampo 1\n",
        "n=int (input(\"Inserisci n\"))\n",
        "divisore = 1\n",
        "while divisore<n:\n",
        "    if n%divisore==0:\n",
        "        print (divisore)    \n",
        "    divisore+=1"
      ]
    },
    {
      "cell_type": "code",
      "execution_count": 52,
      "metadata": {
        "colab": {
          "base_uri": "https://localhost:8080/"
        },
        "id": "GjC4LdR7rP-b",
        "outputId": "9f539b4d-c307-479a-da13-610a7e1cc46e"
      },
      "outputs": [
        {
          "name": "stdout",
          "output_type": "stream",
          "text": [
            "Il numero non é primo\n"
          ]
        }
      ],
      "source": [
        "# Es 4.9: Inserito il numero n dire se è primo o no\n",
        "n=int (input(\"Inserisci un numero\"))\n",
        "for i in range(2,n):\n",
        "    if n%i==0:\n",
        "        print(\"Il numero non é primo\")\n",
        "        break\n",
        "    else:\n",
        "        print(\"il numero é primo.\")\n",
        "        "
      ]
    },
    {
      "cell_type": "code",
      "execution_count": 1,
      "metadata": {
        "colab": {
          "base_uri": "https://localhost:8080/"
        },
        "id": "CxtWnOdHsTv4",
        "outputId": "5d874410-cb07-46a2-9c22-83d541b7a91a"
      },
      "outputs": [
        {
          "name": "stdout",
          "output_type": "stream",
          "text": [
            "42.0\n"
          ]
        }
      ],
      "source": [
        "# Es 4.10: Creare la funzione moltiplica che restituisce il prodotto tra due numeri senza utilizzare *\n",
        "# 3*4 è uguale a 4+4+4\n",
        "\n",
        "def moltiplica(x,y,somma):\n",
        "    for i in range(x):\n",
        "        somma=somma+y\n",
        "    print (somma)\n",
        "x = int(input(\"Inserisci il primo numero: \"))\n",
        "y = float(input(\"Inserisci il secondo numero: \"))\n",
        "somma=0\n",
        "moltiplica(x,y,somma)\n"
      ]
    }
  ],
  "metadata": {
    "colab": {
      "provenance": []
    },
    "kernelspec": {
      "display_name": "Python 3",
      "name": "python3"
    },
    "language_info": {
      "codemirror_mode": {
        "name": "ipython",
        "version": 3
      },
      "file_extension": ".py",
      "mimetype": "text/x-python",
      "name": "python",
      "nbconvert_exporter": "python",
      "pygments_lexer": "ipython3",
      "version": "3.10.8"
    }
  },
  "nbformat": 4,
  "nbformat_minor": 0
}

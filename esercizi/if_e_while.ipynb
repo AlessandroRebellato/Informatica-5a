{
  "nbformat": 4,
  "nbformat_minor": 0,
  "metadata": {
    "colab": {
      "provenance": []
    },
    "kernelspec": {
      "name": "python3",
      "display_name": "Python 3"
    },
    "language_info": {
      "name": "python"
    }
  },
  "cells": [
    {
      "cell_type": "markdown",
      "source": [
        "# Esercizi IF"
      ],
      "metadata": {
        "id": "HB3XbPDcSqe1"
      }
    },
    {
      "cell_type": "code",
      "execution_count": null,
      "metadata": {
        "id": "0U7L9A29RfeT"
      },
      "outputs": [],
      "source": [
        "# Es 4.1: Ottenere dall'utente un numero in input e scrivere a schermo \"Pari\" se il numero è pari, scrivere \"Dispari\" altrimenti\n"
      ]
    },
    {
      "cell_type": "code",
      "source": [
        "# Es 4.2: Ottenere dall'utente tre angoli caso siano i tre angoli di un triangolo scrivere a schermo \"È un triangolo\", altrimenti \"Non è un triangolo\"\n"
      ],
      "metadata": {
        "id": "gE3RVr9ORuwP"
      },
      "execution_count": null,
      "outputs": []
    },
    {
      "cell_type": "code",
      "source": [
        "# Es 4.3: Ottenuti dall'utente tre angoli di un tringolo scrivere a schermo se i tre angoli descrivono un triangolo rettangolo o no\n"
      ],
      "metadata": {
        "id": "r1A_DavcSKgi"
      },
      "execution_count": null,
      "outputs": []
    },
    {
      "cell_type": "code",
      "source": [
        "# Es 4.4: Ottenuti dall'utente tre angoli di un tringolo scrivere a schermo se i tre angoli descrivono un triangolo equilatero o no\n"
      ],
      "metadata": {
        "id": "iA9D4X_GSims"
      },
      "execution_count": null,
      "outputs": []
    },
    {
      "cell_type": "code",
      "source": [
        "# Es 4.5: Ottenuti dall'utente tre angoli di un tringolo scrivere a schermo se i tre angoli descrivono un triangolo isocele o no\n"
      ],
      "metadata": {
        "id": "8q4gadoTSU7J"
      },
      "execution_count": null,
      "outputs": []
    },
    {
      "cell_type": "code",
      "source": [
        "# Es 4.6: Ottenuti dall'utente tre angoli di un tringolo scrivere a schermo se i tre angoli descrivono un triangolo isocele, rettagolo, equilatero o scaleno\n"
      ],
      "metadata": {
        "id": "yVIE2kK3SYlq"
      },
      "execution_count": null,
      "outputs": []
    },
    {
      "cell_type": "markdown",
      "source": [
        "# Esercizi WHILE\n"
      ],
      "metadata": {
        "id": "ef5snVxLqeQh"
      }
    },
    {
      "cell_type": "code",
      "source": [
        "[0]*5"
      ],
      "metadata": {
        "colab": {
          "base_uri": "https://localhost:8080/"
        },
        "id": "2b0nG-_Q-xe2",
        "outputId": "ad099736-6aea-4aaf-c4b0-4e61ba479766"
      },
      "execution_count": null,
      "outputs": [
        {
          "output_type": "execute_result",
          "data": {
            "text/plain": [
              "[0, 0, 0, 0, 0]"
            ]
          },
          "metadata": {},
          "execution_count": 2
        }
      ]
    },
    {
      "cell_type": "code",
      "source": [
        "# Es 4.7: Creare una funzione print_n(n,v) che stampi n volte il. contenuto di v\n",
        "def print_v(n,v):\n",
        "  for i in [v] * n:\n",
        "    print(i)"
      ],
      "metadata": {
        "id": "j61RqiHxqdmh"
      },
      "execution_count": null,
      "outputs": []
    },
    {
      "cell_type": "code",
      "source": [
        "print_v(5,\"CIAO\")"
      ],
      "metadata": {
        "colab": {
          "base_uri": "https://localhost:8080/"
        },
        "id": "-ubY51w0_IBc",
        "outputId": "60fa65c5-1839-4e04-eae0-7e6cc83d7ae4"
      },
      "execution_count": null,
      "outputs": [
        {
          "output_type": "stream",
          "name": "stdout",
          "text": [
            "CIAO\n",
            "CIAO\n",
            "CIAO\n",
            "CIAO\n",
            "CIAO\n"
          ]
        }
      ]
    },
    {
      "cell_type": "code",
      "source": [
        "# Es 4.8: Inserito il numero n dire per quali numeri, compresi tra 1 e n, è divisibile.\n",
        "# Inserisco 10: stampo 1,2,5\n",
        "# Inserisco 7: stampo 1\n",
        "n = 11\n",
        "for i in range(1,n+1):\n",
        "  if n % i == 0:\n",
        "    print(i)"
      ],
      "metadata": {
        "id": "-6lAm-hfq9w9",
        "colab": {
          "base_uri": "https://localhost:8080/"
        },
        "outputId": "399e82ba-3cfe-475f-f8df-0e156677ec75"
      },
      "execution_count": null,
      "outputs": [
        {
          "output_type": "stream",
          "name": "stdout",
          "text": [
            "1\n",
            "11\n"
          ]
        }
      ]
    },
    {
      "cell_type": "code",
      "source": [
        "# Es 4.9: Inserito il numero n dire se è primo o no\n",
        "n = 11\n",
        "c = 0\n",
        "for i in range(1,n):\n",
        "  if n % i == 0:\n",
        "    c = c+1\n",
        "if c == 1:\n",
        "  print(\"Primo\")\n",
        "else:\n",
        "  print (\"Secondo\")"
      ],
      "metadata": {
        "id": "GjC4LdR7rP-b",
        "colab": {
          "base_uri": "https://localhost:8080/"
        },
        "outputId": "9f539b4d-c307-479a-da13-610a7e1cc46e"
      },
      "execution_count": null,
      "outputs": [
        {
          "output_type": "stream",
          "name": "stdout",
          "text": [
            "1\n",
            "Primo\n"
          ]
        }
      ]
    },
    {
      "cell_type": "code",
      "source": [
        "# Es 4.10: Creare la funzione moltiplica che restituisce il prodotto tra due numeri senza utilizzare *\n",
        "# 3*4 è uguale a 4+4+4\n",
        "def moltiplica(a,b):\n",
        "  c = 0\n",
        "  for i in range(a):\n",
        "    c = c+b\n",
        "  return c\n",
        "\n",
        "\n",
        "moltiplica(3,4)"
      ],
      "metadata": {
        "id": "CxtWnOdHsTv4",
        "colab": {
          "base_uri": "https://localhost:8080/"
        },
        "outputId": "5d874410-cb07-46a2-9c22-83d541b7a91a"
      },
      "execution_count": null,
      "outputs": [
        {
          "output_type": "execute_result",
          "data": {
            "text/plain": [
              "12"
            ]
          },
          "metadata": {},
          "execution_count": 17
        }
      ]
    }
  ]
}